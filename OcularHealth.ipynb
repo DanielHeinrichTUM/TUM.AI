{
 "cells": [
  {
   "cell_type": "code",
   "execution_count": 7,
   "id": "6ca98d25",
   "metadata": {},
   "outputs": [],
   "source": [
    "import random\n",
    "import numpy as np\n",
    "import torch, torchvision\n",
    "import pandas, sklearn\n",
    "import tqdm\n",
    "import wandb\n",
    "import albumentations\n"
   ]
  },
  {
   "cell_type": "code",
   "execution_count": null,
   "id": "a0e91d1d",
   "metadata": {},
   "outputs": [
    {
     "name": "stdout",
     "output_type": "stream",
     "text": [
      "2.6.0+cpu False\n"
     ]
    }
   ],
   "source": [
    "print(torch.__version__, torch.cuda.is_available())  # Should print \"True\" for GPU\n",
    "print(torch.cuda.get_device_name(0))  # Prints your GPU model (e.g., \"RTX 3060\")"
   ]
  }
 ],
 "metadata": {
  "kernelspec": {
   "display_name": "venv",
   "language": "python",
   "name": "python3"
  },
  "language_info": {
   "codemirror_mode": {
    "name": "ipython",
    "version": 3
   },
   "file_extension": ".py",
   "mimetype": "text/x-python",
   "name": "python",
   "nbconvert_exporter": "python",
   "pygments_lexer": "ipython3",
   "version": "3.11.9"
  }
 },
 "nbformat": 4,
 "nbformat_minor": 5
}
